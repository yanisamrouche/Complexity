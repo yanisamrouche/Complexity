{
 "cells": [
  {
   "cell_type": "code",
   "execution_count": 43,
   "metadata": {},
   "outputs": [
    {
     "name": "stdout",
     "output_type": "stream",
     "text": [
      "<class 'pandas.core.frame.DataFrame'>\n"
     ]
    },
    {
     "data": {
      "text/html": [
       "<div>\n",
       "<style scoped>\n",
       "    .dataframe tbody tr th:only-of-type {\n",
       "        vertical-align: middle;\n",
       "    }\n",
       "\n",
       "    .dataframe tbody tr th {\n",
       "        vertical-align: top;\n",
       "    }\n",
       "\n",
       "    .dataframe thead th {\n",
       "        text-align: right;\n",
       "    }\n",
       "</style>\n",
       "<table border=\"1\" class=\"dataframe\">\n",
       "  <thead>\n",
       "    <tr style=\"text-align: right;\">\n",
       "      <th></th>\n",
       "      <th>donnee</th>\n",
       "      <th>temps</th>\n",
       "    </tr>\n",
       "  </thead>\n",
       "  <tbody>\n",
       "    <tr>\n",
       "      <td>0</td>\n",
       "      <td>20000.0</td>\n",
       "      <td>0.150781</td>\n",
       "    </tr>\n",
       "    <tr>\n",
       "      <td>1</td>\n",
       "      <td>40000.0</td>\n",
       "      <td>0.314292</td>\n",
       "    </tr>\n",
       "    <tr>\n",
       "      <td>2</td>\n",
       "      <td>60000.0</td>\n",
       "      <td>0.512069</td>\n",
       "    </tr>\n",
       "    <tr>\n",
       "      <td>3</td>\n",
       "      <td>80000.0</td>\n",
       "      <td>0.906314</td>\n",
       "    </tr>\n",
       "    <tr>\n",
       "      <td>4</td>\n",
       "      <td>100000.0</td>\n",
       "      <td>1.512740</td>\n",
       "    </tr>\n",
       "    <tr>\n",
       "      <td>5</td>\n",
       "      <td>120000.0</td>\n",
       "      <td>2.212926</td>\n",
       "    </tr>\n",
       "    <tr>\n",
       "      <td>6</td>\n",
       "      <td>140000.0</td>\n",
       "      <td>2.958546</td>\n",
       "    </tr>\n",
       "    <tr>\n",
       "      <td>7</td>\n",
       "      <td>160000.0</td>\n",
       "      <td>3.746647</td>\n",
       "    </tr>\n",
       "    <tr>\n",
       "      <td>8</td>\n",
       "      <td>180000.0</td>\n",
       "      <td>4.628071</td>\n",
       "    </tr>\n",
       "    <tr>\n",
       "      <td>9</td>\n",
       "      <td>200000.0</td>\n",
       "      <td>5.718659</td>\n",
       "    </tr>\n",
       "  </tbody>\n",
       "</table>\n",
       "</div>"
      ],
      "text/plain": [
       "     donnee     temps\n",
       "0   20000.0  0.150781\n",
       "1   40000.0  0.314292\n",
       "2   60000.0  0.512069\n",
       "3   80000.0  0.906314\n",
       "4  100000.0  1.512740\n",
       "5  120000.0  2.212926\n",
       "6  140000.0  2.958546\n",
       "7  160000.0  3.746647\n",
       "8  180000.0  4.628071\n",
       "9  200000.0  5.718659"
      ]
     },
     "execution_count": 43,
     "metadata": {},
     "output_type": "execute_result"
    }
   ],
   "source": [
    "# veresion itérative\n",
    "import pandas as pd\n",
    "import numpy as np\n",
    "iterative = pd.read_csv(\"iterative.csv\")\n",
    "\n",
    "print(type(iterative))\n",
    "\n",
    "it = np.array(iterative)\n",
    "columns = [\"donnee\", \"temps\"]\n",
    "\n",
    "df = pd.DataFrame(it)\n",
    "donnee = df[0]\n",
    "temps = df[1]\n",
    "df['donnee'] =donnee\n",
    "df['temps'] =temps\n",
    "\n",
    "dfnew = df.drop(1,1)\n",
    "dfnew = dfnew.drop(0,1)\n",
    "\n",
    "dfnew\n"
   ]
  },
  {
   "cell_type": "code",
   "execution_count": 30,
   "metadata": {},
   "outputs": [
    {
     "data": {
      "image/png": "[encoded data removed]",
      "text/plain": [
       "<Figure size 720x432 with 1 Axes>"
      ]
     },
     "metadata": {
      "needs_background": "light"
     },
     "output_type": "display_data"
    }
   ],
   "source": [
    "%matplotlib inline   \n",
    "import numpy as np\n",
    "# Commande uniquement Notebook : permet l'affichage des courbes\n",
    "import matplotlib.pyplot as plt  \n",
    "plt.figure(figsize=(10, 6))\n",
    "#permet d'importer 'pyplot' et de remplacer son nom par 'plt'\n",
    "X = dfnew\n",
    "abscisse = 0\n",
    "ordonnee = 1\n",
    "x = np.array(X[\"donnee\"])\n",
    "y = np.array(X[\"temps\"])\n",
    "plt.grid(axis='y') \n",
    "plt.grid(axis='x') \n",
    "\n",
    "\n",
    "plt.xlabel(\"donnee (n)\")    # Nomage de l'axe des abscisses\n",
    "plt.ylabel(\"temps (s)\")    # Nomage de l'axe des ordonnées   \n",
    "plt.title(\"Fibonacci itératif\") # Et il faut un tritre\n",
    "\n",
    "\n",
    "plt.plot(x,y)   \n",
    "# Définition des abscisses et des ordonnées, ainsi que de la couleur\n",
    "plt.show()    \n",
    "# Affichage de la courbe"
   ]
  },
  {
   "cell_type": "code",
   "execution_count": 44,
   "metadata": {},
   "outputs": [
    {
     "name": "stdout",
     "output_type": "stream",
     "text": [
      "<class 'pandas.core.frame.DataFrame'>\n"
     ]
    },
    {
     "data": {
      "text/html": [
       "<div>\n",
       "<style scoped>\n",
       "    .dataframe tbody tr th:only-of-type {\n",
       "        vertical-align: middle;\n",
       "    }\n",
       "\n",
       "    .dataframe tbody tr th {\n",
       "        vertical-align: top;\n",
       "    }\n",
       "\n",
       "    .dataframe thead th {\n",
       "        text-align: right;\n",
       "    }\n",
       "</style>\n",
       "<table border=\"1\" class=\"dataframe\">\n",
       "  <thead>\n",
       "    <tr style=\"text-align: right;\">\n",
       "      <th></th>\n",
       "      <th>donnee</th>\n",
       "      <th>temps</th>\n",
       "    </tr>\n",
       "  </thead>\n",
       "  <tbody>\n",
       "    <tr>\n",
       "      <td>0</td>\n",
       "      <td>0.0</td>\n",
       "      <td>8.823867e+07</td>\n",
       "    </tr>\n",
       "    <tr>\n",
       "      <td>1</td>\n",
       "      <td>20000.0</td>\n",
       "      <td>1.321092e+08</td>\n",
       "    </tr>\n",
       "    <tr>\n",
       "      <td>2</td>\n",
       "      <td>40000.0</td>\n",
       "      <td>2.870772e+08</td>\n",
       "    </tr>\n",
       "    <tr>\n",
       "      <td>3</td>\n",
       "      <td>60000.0</td>\n",
       "      <td>4.469863e+08</td>\n",
       "    </tr>\n",
       "    <tr>\n",
       "      <td>4</td>\n",
       "      <td>80000.0</td>\n",
       "      <td>5.393615e+08</td>\n",
       "    </tr>\n",
       "    <tr>\n",
       "      <td>5</td>\n",
       "      <td>100000.0</td>\n",
       "      <td>5.869275e+08</td>\n",
       "    </tr>\n",
       "    <tr>\n",
       "      <td>6</td>\n",
       "      <td>120000.0</td>\n",
       "      <td>7.300804e+08</td>\n",
       "    </tr>\n",
       "    <tr>\n",
       "      <td>7</td>\n",
       "      <td>140000.0</td>\n",
       "      <td>8.332766e+08</td>\n",
       "    </tr>\n",
       "    <tr>\n",
       "      <td>8</td>\n",
       "      <td>160000.0</td>\n",
       "      <td>1.226461e+09</td>\n",
       "    </tr>\n",
       "    <tr>\n",
       "      <td>9</td>\n",
       "      <td>180000.0</td>\n",
       "      <td>1.505863e+09</td>\n",
       "    </tr>\n",
       "    <tr>\n",
       "      <td>10</td>\n",
       "      <td>200000.0</td>\n",
       "      <td>1.629704e+09</td>\n",
       "    </tr>\n",
       "  </tbody>\n",
       "</table>\n",
       "</div>"
      ],
      "text/plain": [
       "      donnee         temps\n",
       "0        0.0  8.823867e+07\n",
       "1    20000.0  1.321092e+08\n",
       "2    40000.0  2.870772e+08\n",
       "3    60000.0  4.469863e+08\n",
       "4    80000.0  5.393615e+08\n",
       "5   100000.0  5.869275e+08\n",
       "6   120000.0  7.300804e+08\n",
       "7   140000.0  8.332766e+08\n",
       "8   160000.0  1.226461e+09\n",
       "9   180000.0  1.505863e+09\n",
       "10  200000.0  1.629704e+09"
      ]
     },
     "execution_count": 44,
     "metadata": {},
     "output_type": "execute_result"
    }
   ],
   "source": [
    "# veresion récursif\n",
    "import pandas as pd\n",
    "import numpy as np\n",
    "iterative = pd.read_csv(\"exponentiel.csv\")\n",
    "\n",
    "print(type(iterative))\n",
    "\n",
    "it = np.array(iterative)\n",
    "columns = [\"donnee\", \"temps\"]\n",
    "\n",
    "df = pd.DataFrame(it)\n",
    "donnee = df[0]\n",
    "temps = df[1]\n",
    "df['donnee'] =donnee\n",
    "df['temps'] =temps\n",
    "\n",
    "dfnew = df.drop(1,1)\n",
    "dfnew = dfnew.drop(0,1)\n",
    "dfnew[\"donnee\"]\n",
    "dfnew"
   ]
  },
  {
   "cell_type": "code",
   "execution_count": 46,
   "metadata": {},
   "outputs": [
    {
     "data": {
      "image/png": "[encoded data removed]",
      "text/plain": [
       "<Figure size 720x432 with 1 Axes>"
      ]
     },
     "metadata": {
      "needs_background": "light"
     },
     "output_type": "display_data"
    }
   ],
   "source": [
    "%matplotlib inline   \n",
    "import matplotlib.pyplot as plt        \n",
    "plt.figure(figsize=(10, 6))\n",
    "import numpy as np\n",
    "# Commande uniquement Notebook : permet l'affichage des courbes\n",
    "\n",
    "#permet d'importer 'pyplot' et de remplacer son nom par 'plt'\n",
    "X = dfnew\n",
    "abscisse = 0\n",
    "ordonnee = 1\n",
    "x = np.array(X[\"donnee\"])\n",
    "y = np.array(X[\"temps\"])\n",
    "plt.grid(axis='y') \n",
    "plt.grid(axis='x') \n",
    "\n",
    "plt.xlabel(\"donnee (n)\")    # Nomage de l'axe des abscisses\n",
    "plt.ylabel(\"temps (ms)\")    # Nomage de l'axe des ordonnées   \n",
    "plt.title(\"Fibonacci exponentiel\") # Et il faut un tritre\n",
    "\n",
    "\n",
    "plt.plot(x,y)   \n",
    "# Définition des abscisses et des ordonnées, ainsi que de la couleur\n",
    "plt.show()    \n",
    "# Affichage de la courbe"
   ]
  },
  {
   "cell_type": "code",
   "execution_count": null,
   "metadata": {},
   "outputs": [],
   "source": []
  }
 ],
 "metadata": {
  "kernelspec": {
   "display_name": "Python 3",
   "language": "python",
   "name": "python3"
  },
  "language_info": {
   "codemirror_mode": {
    "name": "ipython",
    "version": 3
   },
   "file_extension": ".py",
   "mimetype": "text/x-python",
   "name": "python",
   "nbconvert_exporter": "python",
   "pygments_lexer": "ipython3",
   "version": "3.7.4"
  }
 },
 "nbformat": 4,
 "nbformat_minor": 2
}
